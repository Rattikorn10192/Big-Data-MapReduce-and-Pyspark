{
  "nbformat": 4,
  "nbformat_minor": 0,
  "metadata": {
    "colab": {
      "provenance": [],
      "authorship_tag": "ABX9TyOXPfaBuruvVPyH/7I2aZUi",
      "include_colab_link": true
    },
    "kernelspec": {
      "name": "python3",
      "display_name": "Python 3"
    },
    "language_info": {
      "name": "python"
    }
  },
  "cells": [
    {
      "cell_type": "markdown",
      "metadata": {
        "id": "view-in-github",
        "colab_type": "text"
      },
      "source": [
        "<a href=\"https://colab.research.google.com/github/Rattikorn10192/Big-Data-MapReduce-and-Pyspark/blob/main/MapReduce_pyspark.ipynb\" target=\"_parent\"><img src=\"https://colab.research.google.com/assets/colab-badge.svg\" alt=\"Open In Colab\"/></a>"
      ]
    },
    {
      "cell_type": "markdown",
      "source": [
        "# Assignment 2"
      ],
      "metadata": {
        "id": "kEw6DhF1hzbD"
      }
    },
    {
      "cell_type": "markdown",
      "source": [
        "#Install package"
      ],
      "metadata": {
        "id": "PHld6e03hHtc"
      }
    },
    {
      "cell_type": "code",
      "execution_count": null,
      "metadata": {
        "id": "QdSt0MHChDxh"
      },
      "outputs": [],
      "source": [
        "# download and install java jdk\n",
        "!apt-get install openjdk-8-jdk-headless -qq > /dev/null"
      ]
    },
    {
      "cell_type": "code",
      "source": [
        "# download spark library\n",
        "!wget https://dlcdn.apache.org/spark/spark-3.2.3/spark-3.2.3-bin-hadoop3.2.tgz\n",
        "# unzip \n",
        "!tar xf spark-3.2.3-bin-hadoop3.2.tgz\n",
        "# remove zip installer\n",
        "!rm spark-3.2.3-bin-hadoop3.2.tgz"
      ],
      "metadata": {
        "colab": {
          "base_uri": "https://localhost:8080/"
        },
        "id": "66VYeghehPOx",
        "outputId": "2126e593-8d19-4c6a-f669-cd80189714e7"
      },
      "execution_count": null,
      "outputs": [
        {
          "output_type": "stream",
          "name": "stdout",
          "text": [
            "--2022-12-17 05:21:52--  https://dlcdn.apache.org/spark/spark-3.2.3/spark-3.2.3-bin-hadoop3.2.tgz\n",
            "Resolving dlcdn.apache.org (dlcdn.apache.org)... 151.101.2.132, 2a04:4e42::644\n",
            "Connecting to dlcdn.apache.org (dlcdn.apache.org)|151.101.2.132|:443... connected.\n",
            "HTTP request sent, awaiting response... 200 OK\n",
            "Length: 301136158 (287M) [application/x-gzip]\n",
            "Saving to: ‘spark-3.2.3-bin-hadoop3.2.tgz’\n",
            "\n",
            "spark-3.2.3-bin-had 100%[===================>] 287.19M   212MB/s    in 1.4s    \n",
            "\n",
            "2022-12-17 05:22:01 (212 MB/s) - ‘spark-3.2.3-bin-hadoop3.2.tgz’ saved [301136158/301136158]\n",
            "\n"
          ]
        }
      ]
    },
    {
      "cell_type": "code",
      "source": [
        "#install findspark\n",
        "!pip install -q findspark\n",
        "#install pyspark\n",
        "!pip install pyspark"
      ],
      "metadata": {
        "colab": {
          "base_uri": "https://localhost:8080/"
        },
        "id": "vF6tpXPthRaZ",
        "outputId": "1114a6c7-a26a-4513-902e-cb52e19b785b"
      },
      "execution_count": null,
      "outputs": [
        {
          "output_type": "stream",
          "name": "stdout",
          "text": [
            "Looking in indexes: https://pypi.org/simple, https://us-python.pkg.dev/colab-wheels/public/simple/\n",
            "Collecting pyspark\n",
            "  Downloading pyspark-3.3.1.tar.gz (281.4 MB)\n",
            "\u001b[K     |████████████████████████████████| 281.4 MB 40 kB/s \n",
            "\u001b[?25hCollecting py4j==0.10.9.5\n",
            "  Downloading py4j-0.10.9.5-py2.py3-none-any.whl (199 kB)\n",
            "\u001b[K     |████████████████████████████████| 199 kB 62.1 MB/s \n",
            "\u001b[?25hBuilding wheels for collected packages: pyspark\n",
            "  Building wheel for pyspark (setup.py) ... \u001b[?25l\u001b[?25hdone\n",
            "  Created wheel for pyspark: filename=pyspark-3.3.1-py2.py3-none-any.whl size=281845512 sha256=cc2819269cdbd4109dd8077067cff073c57efde63fad72b89654fcbbdc046acd\n",
            "  Stored in directory: /root/.cache/pip/wheels/43/dc/11/ec201cd671da62fa9c5cc77078235e40722170ceba231d7598\n",
            "Successfully built pyspark\n",
            "Installing collected packages: py4j, pyspark\n",
            "Successfully installed py4j-0.10.9.5 pyspark-3.3.1\n"
          ]
        }
      ]
    },
    {
      "cell_type": "code",
      "source": [
        "# setup env path\n",
        "import os\n",
        "os.environ[\"JAVA_HOME\"] = \"/usr/lib/jvm/java-8-openjdk-amd64\"\n",
        "os.environ[\"SPARK_HOME\"] = \"/content/spark-3.2.3-bin-hadoop3.2\""
      ],
      "metadata": {
        "id": "Nql21fzqhTow"
      },
      "execution_count": null,
      "outputs": []
    },
    {
      "cell_type": "code",
      "source": [
        "# findspark will find spark in env and import spark as libraries\n",
        "import findspark\n",
        "findspark.init()\n",
        "findspark.find()"
      ],
      "metadata": {
        "colab": {
          "base_uri": "https://localhost:8080/",
          "height": 35
        },
        "id": "eHhmuoRBhVeP",
        "outputId": "d6bdf59b-f6ed-4604-9134-873463985245"
      },
      "execution_count": null,
      "outputs": [
        {
          "output_type": "execute_result",
          "data": {
            "text/plain": [
              "'/content/spark-3.2.3-bin-hadoop3.2'"
            ],
            "application/vnd.google.colaboratory.intrinsic+json": {
              "type": "string"
            }
          },
          "metadata": {},
          "execution_count": 5
        }
      ]
    },
    {
      "cell_type": "code",
      "source": [
        "from pyspark.sql import SparkSession\n",
        "from pyspark.sql.functions import *\n",
        "spark = SparkSession.builder\\\n",
        "        .master(\"local\")\\\n",
        "        .appName(\"pyspark_project\")\\\n",
        "        .config('spark.ui.port', '4050')\\\n",
        "        .getOrCreate()"
      ],
      "metadata": {
        "id": "8HNtgIAkhXfh"
      },
      "execution_count": null,
      "outputs": []
    },
    {
      "cell_type": "code",
      "source": [
        "spark"
      ],
      "metadata": {
        "id": "Q36nQFnfhZcC"
      },
      "execution_count": null,
      "outputs": []
    },
    {
      "cell_type": "markdown",
      "source": [
        "#Read file"
      ],
      "metadata": {
        "id": "25Q-13oKhcB-"
      }
    },
    {
      "cell_type": "code",
      "source": [
        "input ='/content/input.txt'\n",
        "\n",
        "rdd = spark.sparkContext.textFile(input)\n",
        "rdd.collect()"
      ],
      "metadata": {
        "colab": {
          "base_uri": "https://localhost:8080/"
        },
        "id": "3HfRbCbIhfqg",
        "outputId": "0012f7f4-f785-47fd-d076-23068c0afb5b"
      },
      "execution_count": null,
      "outputs": [
        {
          "output_type": "execute_result",
          "data": {
            "text/plain": [
              "['10021,1,40000',\n",
              " '10023,2,20000',\n",
              " '10086,1,88000',\n",
              " '10022,3,58000',\n",
              " '10099,1,30000',\n",
              " '10042,3,70000',\n",
              " '10086,2,50000',\n",
              " '10007,2,80000',\n",
              " '10021,2,120000',\n",
              " '10023,3,200000',\n",
              " '14500,2,320000',\n",
              " '10021,1,500000']"
            ]
          },
          "metadata": {},
          "execution_count": 7
        }
      ]
    },
    {
      "cell_type": "markdown",
      "source": [
        "map"
      ],
      "metadata": {
        "id": "5GmnoU-ShnEp"
      }
    },
    {
      "cell_type": "code",
      "source": [
        "rdd2 = rdd.map(lambda x: x.split(',')) \\\n",
        "  .map(lambda x: (x[1],int(x[2]))) \\\n",
        "  .mapValues(lambda v: (v, 1)) \\\n",
        "  .sortByKey()\n",
        "\n",
        "rdd2.collect()"
      ],
      "metadata": {
        "colab": {
          "base_uri": "https://localhost:8080/"
        },
        "id": "oHYmBEJohikm",
        "outputId": "cfb3af9a-50a6-40d7-f975-fa50074fb137"
      },
      "execution_count": null,
      "outputs": [
        {
          "output_type": "execute_result",
          "data": {
            "text/plain": [
              "[('1', (40000, 1)),\n",
              " ('1', (88000, 1)),\n",
              " ('1', (30000, 1)),\n",
              " ('1', (500000, 1)),\n",
              " ('2', (20000, 1)),\n",
              " ('2', (50000, 1)),\n",
              " ('2', (80000, 1)),\n",
              " ('2', (120000, 1)),\n",
              " ('2', (320000, 1)),\n",
              " ('3', (58000, 1)),\n",
              " ('3', (70000, 1)),\n",
              " ('3', (200000, 1))]"
            ]
          },
          "metadata": {},
          "execution_count": 8
        }
      ]
    },
    {
      "cell_type": "markdown",
      "source": [
        "reduce"
      ],
      "metadata": {
        "id": "lX7OY_-lhqPj"
      }
    },
    {
      "cell_type": "code",
      "source": [
        "rdd3 = rdd2 \\\n",
        "  .reduceByKey(lambda a,b: (a[0]+b[0], a[1]+b[1])) \\\n",
        "  .mapValues(lambda v: v[0]/v[1])\n",
        "\n",
        "rdd3.collect()"
      ],
      "metadata": {
        "colab": {
          "base_uri": "https://localhost:8080/"
        },
        "id": "aTF-R_j_hl-P",
        "outputId": "26c45efb-def4-4a9a-ffe1-fa69011b3ff0"
      },
      "execution_count": null,
      "outputs": [
        {
          "output_type": "execute_result",
          "data": {
            "text/plain": [
              "[('1', 164500.0), ('2', 118000.0), ('3', 109333.33333333333)]"
            ]
          },
          "metadata": {},
          "execution_count": 9
        }
      ]
    }
  ]
}