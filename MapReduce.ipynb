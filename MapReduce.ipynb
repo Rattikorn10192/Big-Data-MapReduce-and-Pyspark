{
  "nbformat": 4,
  "nbformat_minor": 0,
  "metadata": {
    "colab": {
      "provenance": [],
      "authorship_tag": "ABX9TyNTSMNZb+1RY6E4bvxf/+Bn",
      "include_colab_link": true
    },
    "kernelspec": {
      "name": "python3",
      "display_name": "Python 3"
    },
    "language_info": {
      "name": "python"
    }
  },
  "cells": [
    {
      "cell_type": "markdown",
      "metadata": {
        "id": "view-in-github",
        "colab_type": "text"
      },
      "source": [
        "<a href=\"https://colab.research.google.com/github/Rattikorn10192/Big-Data-MapReduce-and-Pyspark/blob/main/MapReduce.ipynb\" target=\"_parent\"><img src=\"https://colab.research.google.com/assets/colab-badge.svg\" alt=\"Open In Colab\"/></a>"
      ]
    },
    {
      "cell_type": "markdown",
      "source": [
        "**Assignment 1**\n",
        "Write a mapper and a reducer in Pythonfor a MapReduce job that finds the average of personal incomesfor each continent. Each  line  in  the  input  data  file should  containtuples  of  (countryid, continent  id, personalincome) "
      ],
      "metadata": {
        "id": "rHtNfdgiokd8"
      }
    },
    {
      "cell_type": "markdown",
      "source": [
        "# **Map**\n"
      ],
      "metadata": {
        "id": "vK6aKhO3oHc4"
      }
    },
    {
      "cell_type": "code",
      "execution_count": null,
      "metadata": {
        "colab": {
          "base_uri": "https://localhost:8080/"
        },
        "id": "FxeIh-qin6Rg",
        "outputId": "5f12812d-cd5a-4196-9c91-c699ad021b68"
      },
      "outputs": [
        {
          "output_type": "stream",
          "name": "stdout",
          "text": [
            "[('10021', '1', '40000'), ('10021', '1', '500000'), ('10086', '1', '88000'), ('10099', '1', '30000'), ('10007', '2', '80000'), ('10021', '2', '120000'), ('10023', '2', '20000'), ('10086', '2', '50000'), ('14500', '2', '320000'), ('10022', '3', '58000'), ('10023', '3', '200000'), ('10042', '3', '70000')]\n"
          ]
        }
      ],
      "source": [
        "input='/content/input.txt'\n",
        "\n",
        "mapResult=[]\n",
        "\n",
        "with open(input,'r') as f:\n",
        "  for line in f:\n",
        "    line = line.split(',')\n",
        "    mapResult.append((line[0],line[1],line[2].replace('\\n','')))\n",
        "mapResult.sort(key=lambda x:(x[1] ,x[0]))\n",
        "print(mapResult)\n",
        "\n",
        "# read input\n",
        "# generate tuple \n",
        "  # order by  x[1] :continent_id ,x[0] :country_id"
      ]
    },
    {
      "cell_type": "code",
      "source": [
        "# write result\n",
        "  # key: continent_id\n",
        "  # value: income\n",
        "\n",
        "result ='/content/result.txt'\n",
        "with open(result ,'w') as f:\n",
        "  for map in mapResult:\n",
        "    country_id ,key ,value =map\n",
        "    f.writelines(f'{key},{value}\\n')"
      ],
      "metadata": {
        "id": "c6hFLv0foDnM"
      },
      "execution_count": null,
      "outputs": []
    },
    {
      "cell_type": "markdown",
      "source": [
        "# **Reduce**"
      ],
      "metadata": {
        "id": "sg9tnvSCoUJo"
      }
    },
    {
      "cell_type": "code",
      "source": [
        "incomelist=[]\n",
        "prev_key = None\n",
        "\n",
        "with open(result,'r') as f:\n",
        "  for i in f:\n",
        "    key,value=i.split(',')\n",
        "    income=int(value)\n",
        "\n",
        "    cur_key = key\n",
        "    if prev_key == None or prev_key == cur_key:    # using for first round and the same key\n",
        "      incomelist.append(income)\n",
        "    elif prev_key != cur_key:  # using for new id\n",
        "      print(f'{prev_key},{sum(incomelist) / len(incomelist)}')\n",
        "      incomelist=[]\n",
        "      incomelist.append(income)\n",
        "    \n",
        "    prev_key = cur_key\n",
        "\n",
        "  print(f'{prev_key},{sum(incomelist) / len(incomelist)}')"
      ],
      "metadata": {
        "colab": {
          "base_uri": "https://localhost:8080/"
        },
        "id": "Gjqbe3S_ocSL",
        "outputId": "1158a0e9-b85b-4188-d997-16624b619212"
      },
      "execution_count": null,
      "outputs": [
        {
          "output_type": "stream",
          "name": "stdout",
          "text": [
            "1,164500.0\n",
            "2,118000.0\n",
            "3,109333.33333333333\n"
          ]
        }
      ]
    }
  ]
}